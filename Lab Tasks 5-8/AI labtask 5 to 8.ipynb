{
 "cells": [
  {
   "cell_type": "code",
   "execution_count": 1,
   "metadata": {},
   "outputs": [
    {
     "name": "stdout",
     "output_type": "stream",
     "text": [
      "Hello world\n"
     ]
    }
   ],
   "source": [
    "print(\"Hello world\")"
   ]
  },
  {
   "cell_type": "code",
   "execution_count": 2,
   "metadata": {},
   "outputs": [
    {
     "name": "stdout",
     "output_type": "stream",
     "text": [
      "visited node:A\n",
      "visited node:C\n",
      "visited node:E\n",
      "visited node:B\n",
      "visited node:D\n",
      "visited node:E\n"
     ]
    }
   ],
   "source": [
    "#lab 5 task\n",
    "class Node:\n",
    "    def __init__(self,value):\n",
    "        self.data=value\n",
    "        self.neighbors=[]\n",
    "        \n",
    "    def add_neighbors(self,neighbors_node):\n",
    "        self.neighbors.append(neighbors_node)\n",
    "        \n",
    "def stack_dfs(start_node):\n",
    "        stack=[start_node]\n",
    "        visited=set()\n",
    "        \n",
    "        while stack:\n",
    "            current_node=stack.pop()\n",
    "            \n",
    "            if current_node not in visited:\n",
    "                print(f\"visited node:{current_node.data}\")\n",
    "                \n",
    "                for neighbors_node in current_node.neighbors:\n",
    "                    if neighbors_node not in visited:\n",
    "                        stack.append(neighbors_node)\n",
    "                        \n",
    "nodeA=Node(\"A\")\n",
    "nodeB=Node(\"B\")\n",
    "nodeC=Node(\"C\")\n",
    "nodeD=Node(\"D\")\n",
    "nodeE=Node(\"E\")\n",
    "\n",
    "nodeA.add_neighbors(nodeB)\n",
    "nodeA.add_neighbors(nodeC)\n",
    "nodeB.add_neighbors(nodeD)\n",
    "nodeC.add_neighbors(nodeE)\n",
    "nodeD.add_neighbors(nodeE)\n",
    "\n",
    "stack_dfs(nodeA)\n",
    "\n",
    "\n"
   ]
  },
  {
   "cell_type": "code",
   "execution_count": 2,
   "metadata": {},
   "outputs": [
    {
     "name": "stdout",
     "output_type": "stream",
     "text": [
      "0 1 3 4 2 5 6 "
     ]
    }
   ],
   "source": [
    "#lab No 6 task 1\n",
    "\n",
    "graph={\n",
    "    0:[1,2],\n",
    "    1:[0,3,4],\n",
    "    2:[0,5,6],\n",
    "    3:[1],\n",
    "    4:[1],\n",
    "    5:[2],\n",
    "    6:[2]\n",
    "}\n",
    "\n",
    "def bfs(graph,visited,current_level):\n",
    "    if not current_level:\n",
    "        return\n",
    "    next_level=[]\n",
    "    for node in current_level:\n",
    "        if not visited[node]:\n",
    "            print(node,end=\" \")\n",
    "            visited[node]=True\n",
    "            next_level.extend([neighbor for neighbor in graph[node] if not visited[neighbor]])\n",
    "            \n",
    "        bfs(graph,visited,next_level)\n",
    "        \n",
    "start_node=0\n",
    "visited=[False] *len(graph)\n",
    "\n",
    "bfs(graph,visited,[start_node])"
   ]
  },
  {
   "cell_type": "code",
   "execution_count": 4,
   "metadata": {},
   "outputs": [
    {
     "name": "stdout",
     "output_type": "stream",
     "text": [
      "0265143"
     ]
    }
   ],
   "source": [
    "#task 2\n",
    "from collections import deque\n",
    "graph={\n",
    "    0:[1,2],\n",
    "    1:[0,3,4],\n",
    "    2:[0,5,6],\n",
    "    3:[1],\n",
    "    4:[1],\n",
    "    5:[2],\n",
    "    6:[2]\n",
    "}\n",
    "\n",
    "def queue_bfs(graph,start_node):\n",
    "    queue=deque([start_node])\n",
    "    visited=[False] * len(graph)\n",
    "    \n",
    "    visited[start_node]=True\n",
    "    \n",
    "    while queue:\n",
    "        \n",
    "        node=queue.pop()\n",
    "        print(node,end=\"\")\n",
    "        \n",
    "        for neighbor in graph[node]:\n",
    "            if not visited[neighbor]:\n",
    "                visited[neighbor]=True\n",
    "                queue.append(neighbor)\n",
    "                \n",
    "start_node=0\n",
    "queue_bfs(graph,start_node)\n",
    "                \n",
    "    "
   ]
  },
  {
   "cell_type": "code",
   "execution_count": 3,
   "metadata": {},
   "outputs": [
    {
     "name": "stdout",
     "output_type": "stream",
     "text": [
      "Path from A to F: ['A', 'B', 'E', 'F']\n"
     ]
    }
   ],
   "source": [
    "#lab 7 task\n",
    "class A_star:\n",
    "    def __init__(self,graph,huristic_value):\n",
    "        self.graph=graph\n",
    "        self.huristic_value=huristic_value\n",
    "        \n",
    "    def a_star(self,start_node,goal_node):\n",
    "        list=[(start_node,0)]\n",
    "        \n",
    "        g_score={start_node:0}\n",
    "        \n",
    "        f_score={start_node:self.huristic_value[start_node]}\n",
    "        \n",
    "        parent={start_node:None}\n",
    "        \n",
    "        while list:\n",
    "            list.sort(key=lambda x:f_score.get(x[0],float(\"inf\")))\n",
    "            current_node, _=list.pop(0)\n",
    "            \n",
    "            if current_node==goal_node:\n",
    "                return self.reconstruct_path(parent,goal_node)\n",
    "            \n",
    "            for neighbor,cost in self.graph.get(current_node,[]):\n",
    "                tentative_g_score=g_score[current_node] + cost\n",
    "                \n",
    "                if tentative_g_score < g_score.get(neighbor,float(\"inf\")):\n",
    "                    parent[neighbor] = current_node\n",
    "                    g_score[neighbor] = tentative_g_score\n",
    "                    f_score[neighbor] = tentative_g_score + self.huristic_value[neighbor]\n",
    "                    \n",
    "                    if neighbor not in [node[0] for node in list]:\n",
    "                        list.append((neighbor,f_score[neighbor]))\n",
    "                    \n",
    "        return None\n",
    "    \n",
    "    def reconstruct_path(self,parent,current_node):\n",
    "        path=[]\n",
    "        while current_node is not None:\n",
    "            path.append(current_node)\n",
    "            current_node=parent[current_node]\n",
    "            \n",
    "        return path[::-1]\n",
    "    \n",
    "    \n",
    "graph = {\n",
    "    'A': [('B', 1), ('C', 3)],\n",
    "    'B': [('A', 1), ('D', 1), ('E', 4)],\n",
    "    'C': [('A', 3), ('F', 5)],\n",
    "    'D': [('B', 1)],\n",
    "    'E': [('B', 4), ('F', 2)],\n",
    "    'F': [('C', 5), ('E', 2), ('G', 1)],\n",
    "    'G': [('F', 1)]\n",
    "}\n",
    "\n",
    "huristic = {\n",
    "    'A': 7,\n",
    "    'B': 6,\n",
    "    'C': 2,\n",
    "    'D': 6,\n",
    "    'E': 3,\n",
    "    'F': 1,\n",
    "    'G': 0\n",
    "}\n",
    "\n",
    "astar = A_star(graph, huristic)\n",
    "\n",
    "start_node= \"A\"\n",
    "goal_node=\"F\"\n",
    "\n",
    "path=astar.a_star(start_node,goal_node)\n",
    "print(f\"Path from {start_node} to {goal_node}: {path}\")\n",
    "\n",
    "                    \n",
    "        \n",
    "        \n"
   ]
  },
  {
   "cell_type": "code",
   "execution_count": 6,
   "metadata": {},
   "outputs": [
    {
     "name": "stdout",
     "output_type": "stream",
     "text": [
      "Best value: -1\n"
     ]
    }
   ],
   "source": [
    "#lab 8 task\n",
    "import math\n",
    "class game:\n",
    "    def __init__(self,board,maximizing_player):\n",
    "        self.board=board\n",
    "        self.maximizing_player=maximizing_player\n",
    "        \n",
    "    def possible_moves(self):\n",
    "        moves=[]\n",
    "        for i in range (len(self.board)):\n",
    "            for j in range (len(self.board[i])):\n",
    "                if self.board[i][j]==0:\n",
    "                    moves.append((i,j))\n",
    "        return moves\n",
    "    def make_move(self,move):\n",
    "        new_board=[row.copy()for row in self.board]\n",
    "        new_board[move[0]][move[1]]=1 if self.maximizing_player else -1\n",
    "        return game(new_board,not self.maximizing_player)\n",
    "    \n",
    "    def terminal(self):\n",
    "        return len(self.possible_moves())==0\n",
    "    \n",
    "    def evaluate(self):\n",
    "        return 1 if self.maximizing_player else -1 if not self.maximizing_player else 0\n",
    "    \n",
    "def minmax(state,depth):\n",
    "    if state.terminal() or depth==0:\n",
    "        return state.evaluate()\n",
    "    if state.maximizing_player:\n",
    "        max_evaluate=-math.inf\n",
    "        for move in state.possible_moves():\n",
    "            eval=minmax(state.make_move(move),depth -1)\n",
    "            max_evaluate=max(max_evaluate,eval)\n",
    "            \n",
    "        return max_evaluate\n",
    "    else:\n",
    "        minimum_evaluate=math.inf\n",
    "        for move in state.possible_moves():\n",
    "           eval=minmax(state.make_move(move),depth -1)\n",
    "           minimum_evaluate=min(minimum_evaluate,eval)\n",
    "           \n",
    "        return minimum_evaluate\n",
    "    \n",
    "initial_board = [[0, 0, 0], [0, 0, 0], [0, 0, 0]] \n",
    "game_state = game(initial_board, True) \n",
    "best_value = minmax(game_state, depth=3)  \n",
    "print(\"Best value:\", best_value)\n",
    "        \n",
    "            \n",
    "        \n",
    "        \n",
    "        \n",
    "                                        "
   ]
  }
 ],
 "metadata": {
  "kernelspec": {
   "display_name": "base",
   "language": "python",
   "name": "python3"
  },
  "language_info": {
   "codemirror_mode": {
    "name": "ipython",
    "version": 3
   },
   "file_extension": ".py",
   "mimetype": "text/x-python",
   "name": "python",
   "nbconvert_exporter": "python",
   "pygments_lexer": "ipython3",
   "version": "3.11.7"
  }
 },
 "nbformat": 4,
 "nbformat_minor": 2
}
