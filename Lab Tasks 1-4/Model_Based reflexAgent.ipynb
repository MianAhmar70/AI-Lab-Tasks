{
 "cells": [
  {
   "cell_type": "code",
   "execution_count": 4,
   "metadata": {},
   "outputs": [
    {
     "name": "stdout",
     "output_type": "stream",
     "text": [
      "Living Room: Current temperature = 18. turn on heater.\n",
      "Bedroom: Current temperature = 22. turn off heater.\n",
      "Kitchen: Current temperature = 20. turn on heater.\n",
      "Bathroom: Current temperature = 24. turn off heater.\n"
     ]
    }
   ],
   "source": [
    "class Model_Based_ReflexAgent:\n",
    "    def __init__(self,temp) -> None:\n",
    "        self.desired_temp=temp\n",
    "        self.model={}\n",
    "    \n",
    "    def percieve(self,room,current_temp):\n",
    "        return current_temp\n",
    "    \n",
    "    def act(self,room,current_temp):\n",
    "        if current_temp < self.desired_temp:\n",
    "            action=\"turn on heater\"\n",
    "        else:\n",
    "            action=\"turn off heater\"\n",
    "            \n",
    "        if room in self.model:\n",
    "            if self.model[room]==action:\n",
    "                return f\"No action is needed(heater alredy{action()})\"\n",
    "            \n",
    "        self.model[room]=action\n",
    "        return action\n",
    "    \n",
    "rooms = {\n",
    "    \"Living Room\": 18,\n",
    "    \"Bedroom\": 22,\n",
    "    \"Kitchen\": 20,\n",
    "    \"Bathroom\": 24\n",
    "}\n",
    "\n",
    "\n",
    "desired_temp = 22\n",
    "agent = Model_Based_ReflexAgent(desired_temp)\n",
    "\n",
    "\n",
    "for room, temp in rooms.items():\n",
    "    current_temp = agent.percieve(room, temp)\n",
    "    action = agent.act(room, current_temp)\n",
    "    print(f\"{room}: Current temperature = {temp}. {action}.\")\n",
    "\n",
    "            "
   ]
  }
 ],
 "metadata": {
  "kernelspec": {
   "display_name": "base",
   "language": "python",
   "name": "python3"
  },
  "language_info": {
   "codemirror_mode": {
    "name": "ipython",
    "version": 3
   },
   "file_extension": ".py",
   "mimetype": "text/x-python",
   "name": "python",
   "nbconvert_exporter": "python",
   "pygments_lexer": "ipython3",
   "version": "3.11.7"
  }
 },
 "nbformat": 4,
 "nbformat_minor": 2
}
